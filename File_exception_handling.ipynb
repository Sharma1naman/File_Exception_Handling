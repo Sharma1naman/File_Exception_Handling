{
  "cells": [
    {
      "cell_type": "markdown",
      "metadata": {
        "id": "XQ4D003vtp86"
      },
      "source": [
        "#Files, exceptional handling, logging and memory management Questions\n",
        "\n"
      ]
    },
    {
      "cell_type": "markdown",
      "source": [
        "## Theoretical Questions"
      ],
      "metadata": {
        "id": "dIcSX7DeP4oe"
      }
    },
    {
      "cell_type": "markdown",
      "metadata": {
        "id": "IpeAVEfktyeh"
      },
      "source": [
        "**Question 1.** What is the difference between interpreted and compiled languages?\n",
        "  - Interpreted languages execute code line-by-line at runtime without requiring compilation to machine code first. Compiled languages convert the entire program to machine code before execution. Python is interpreted, making it portable but slower than compiled languages like C++, which produce faster executables but require platform-specific compilation."
      ]
    },
    {
      "cell_type": "code",
      "execution_count": 1,
      "metadata": {
        "colab": {
          "base_uri": "https://localhost:8080/"
        },
        "id": "t1AV4QQJtzWK",
        "outputId": "7ece6542-2581-4d7a-9a10-71266f23c66b"
      },
      "outputs": [
        {
          "output_type": "stream",
          "name": "stdout",
          "text": [
            "Hello, World!\n"
          ]
        }
      ],
      "source": [
        "#Example\n",
        "# Python (interpreted) example\n",
        "print(\"Hello, World!\")  # Executed line by line at runtime\n",
        "\n",
        "# C++ (compiled) equivalent would be:\n",
        "# #include <iostream>\n",
        "# int main() {\n",
        "#     std::cout << \"Hello, World!\" << std::endl;\n",
        "#     return 0;\n",
        "# }\n",
        "# Requires compilation before running"
      ]
    },
    {
      "cell_type": "markdown",
      "metadata": {
        "id": "5JDMltVeuTwi"
      },
      "source": [
        "**Question 2.** What is exception handling in Python?\n",
        "\n",
        "  - Exception handling in Python allows you to manage errors that occur during program execution rather than crashing. Using try-except blocks, you can catch specific exceptions and handle them gracefully, ensuring your program continues running even when unexpected situations arise."
      ]
    },
    {
      "cell_type": "code",
      "execution_count": 2,
      "metadata": {
        "colab": {
          "base_uri": "https://localhost:8080/"
        },
        "id": "wSHwIPMluFtj",
        "outputId": "9d03d870-e6c2-49a7-ff4c-ba8db7c27a3e"
      },
      "outputs": [
        {
          "output_type": "stream",
          "name": "stdout",
          "text": [
            "Enter a number: 30\n",
            "Result: 0.3333333333333333\n"
          ]
        }
      ],
      "source": [
        "#Example\n",
        "try:\n",
        "    number = int(input(\"Enter a number: \"))\n",
        "    result = 10 / number\n",
        "    print(f\"Result: {result}\")\n",
        "except ValueError:\n",
        "    print(\"Please enter a valid integer\")\n",
        "except ZeroDivisionError:\n",
        "    print(\"Cannot divide by zero\")"
      ]
    },
    {
      "cell_type": "markdown",
      "metadata": {
        "id": "hPex-90zuYpX"
      },
      "source": [
        "**Question 3.** What is the purpose of the finally block in exception handling?\n",
        "\n",
        "  - The finally block in Python's exception handling executes code regardless of whether an exception occurred or not. It's useful for cleanup operations like closing files or network connections that must happen regardless of success or failure of the try block."
      ]
    },
    {
      "cell_type": "code",
      "source": [
        "from google.colab import files\n",
        "uploaded = files.upload()"
      ],
      "metadata": {
        "colab": {
          "base_uri": "https://localhost:8080/",
          "height": 74
        },
        "id": "5-BFEP55Qziy",
        "outputId": "fe6691f3-847c-44a2-ad78-c795cc68b8c0"
      },
      "execution_count": 3,
      "outputs": [
        {
          "output_type": "display_data",
          "data": {
            "text/plain": [
              "<IPython.core.display.HTML object>"
            ],
            "text/html": [
              "\n",
              "     <input type=\"file\" id=\"files-fff9c5b8-a8d5-43b3-b4ee-c88ac811d338\" name=\"files[]\" multiple disabled\n",
              "        style=\"border:none\" />\n",
              "     <output id=\"result-fff9c5b8-a8d5-43b3-b4ee-c88ac811d338\">\n",
              "      Upload widget is only available when the cell has been executed in the\n",
              "      current browser session. Please rerun this cell to enable.\n",
              "      </output>\n",
              "      <script>// Copyright 2017 Google LLC\n",
              "//\n",
              "// Licensed under the Apache License, Version 2.0 (the \"License\");\n",
              "// you may not use this file except in compliance with the License.\n",
              "// You may obtain a copy of the License at\n",
              "//\n",
              "//      http://www.apache.org/licenses/LICENSE-2.0\n",
              "//\n",
              "// Unless required by applicable law or agreed to in writing, software\n",
              "// distributed under the License is distributed on an \"AS IS\" BASIS,\n",
              "// WITHOUT WARRANTIES OR CONDITIONS OF ANY KIND, either express or implied.\n",
              "// See the License for the specific language governing permissions and\n",
              "// limitations under the License.\n",
              "\n",
              "/**\n",
              " * @fileoverview Helpers for google.colab Python module.\n",
              " */\n",
              "(function(scope) {\n",
              "function span(text, styleAttributes = {}) {\n",
              "  const element = document.createElement('span');\n",
              "  element.textContent = text;\n",
              "  for (const key of Object.keys(styleAttributes)) {\n",
              "    element.style[key] = styleAttributes[key];\n",
              "  }\n",
              "  return element;\n",
              "}\n",
              "\n",
              "// Max number of bytes which will be uploaded at a time.\n",
              "const MAX_PAYLOAD_SIZE = 100 * 1024;\n",
              "\n",
              "function _uploadFiles(inputId, outputId) {\n",
              "  const steps = uploadFilesStep(inputId, outputId);\n",
              "  const outputElement = document.getElementById(outputId);\n",
              "  // Cache steps on the outputElement to make it available for the next call\n",
              "  // to uploadFilesContinue from Python.\n",
              "  outputElement.steps = steps;\n",
              "\n",
              "  return _uploadFilesContinue(outputId);\n",
              "}\n",
              "\n",
              "// This is roughly an async generator (not supported in the browser yet),\n",
              "// where there are multiple asynchronous steps and the Python side is going\n",
              "// to poll for completion of each step.\n",
              "// This uses a Promise to block the python side on completion of each step,\n",
              "// then passes the result of the previous step as the input to the next step.\n",
              "function _uploadFilesContinue(outputId) {\n",
              "  const outputElement = document.getElementById(outputId);\n",
              "  const steps = outputElement.steps;\n",
              "\n",
              "  const next = steps.next(outputElement.lastPromiseValue);\n",
              "  return Promise.resolve(next.value.promise).then((value) => {\n",
              "    // Cache the last promise value to make it available to the next\n",
              "    // step of the generator.\n",
              "    outputElement.lastPromiseValue = value;\n",
              "    return next.value.response;\n",
              "  });\n",
              "}\n",
              "\n",
              "/**\n",
              " * Generator function which is called between each async step of the upload\n",
              " * process.\n",
              " * @param {string} inputId Element ID of the input file picker element.\n",
              " * @param {string} outputId Element ID of the output display.\n",
              " * @return {!Iterable<!Object>} Iterable of next steps.\n",
              " */\n",
              "function* uploadFilesStep(inputId, outputId) {\n",
              "  const inputElement = document.getElementById(inputId);\n",
              "  inputElement.disabled = false;\n",
              "\n",
              "  const outputElement = document.getElementById(outputId);\n",
              "  outputElement.innerHTML = '';\n",
              "\n",
              "  const pickedPromise = new Promise((resolve) => {\n",
              "    inputElement.addEventListener('change', (e) => {\n",
              "      resolve(e.target.files);\n",
              "    });\n",
              "  });\n",
              "\n",
              "  const cancel = document.createElement('button');\n",
              "  inputElement.parentElement.appendChild(cancel);\n",
              "  cancel.textContent = 'Cancel upload';\n",
              "  const cancelPromise = new Promise((resolve) => {\n",
              "    cancel.onclick = () => {\n",
              "      resolve(null);\n",
              "    };\n",
              "  });\n",
              "\n",
              "  // Wait for the user to pick the files.\n",
              "  const files = yield {\n",
              "    promise: Promise.race([pickedPromise, cancelPromise]),\n",
              "    response: {\n",
              "      action: 'starting',\n",
              "    }\n",
              "  };\n",
              "\n",
              "  cancel.remove();\n",
              "\n",
              "  // Disable the input element since further picks are not allowed.\n",
              "  inputElement.disabled = true;\n",
              "\n",
              "  if (!files) {\n",
              "    return {\n",
              "      response: {\n",
              "        action: 'complete',\n",
              "      }\n",
              "    };\n",
              "  }\n",
              "\n",
              "  for (const file of files) {\n",
              "    const li = document.createElement('li');\n",
              "    li.append(span(file.name, {fontWeight: 'bold'}));\n",
              "    li.append(span(\n",
              "        `(${file.type || 'n/a'}) - ${file.size} bytes, ` +\n",
              "        `last modified: ${\n",
              "            file.lastModifiedDate ? file.lastModifiedDate.toLocaleDateString() :\n",
              "                                    'n/a'} - `));\n",
              "    const percent = span('0% done');\n",
              "    li.appendChild(percent);\n",
              "\n",
              "    outputElement.appendChild(li);\n",
              "\n",
              "    const fileDataPromise = new Promise((resolve) => {\n",
              "      const reader = new FileReader();\n",
              "      reader.onload = (e) => {\n",
              "        resolve(e.target.result);\n",
              "      };\n",
              "      reader.readAsArrayBuffer(file);\n",
              "    });\n",
              "    // Wait for the data to be ready.\n",
              "    let fileData = yield {\n",
              "      promise: fileDataPromise,\n",
              "      response: {\n",
              "        action: 'continue',\n",
              "      }\n",
              "    };\n",
              "\n",
              "    // Use a chunked sending to avoid message size limits. See b/62115660.\n",
              "    let position = 0;\n",
              "    do {\n",
              "      const length = Math.min(fileData.byteLength - position, MAX_PAYLOAD_SIZE);\n",
              "      const chunk = new Uint8Array(fileData, position, length);\n",
              "      position += length;\n",
              "\n",
              "      const base64 = btoa(String.fromCharCode.apply(null, chunk));\n",
              "      yield {\n",
              "        response: {\n",
              "          action: 'append',\n",
              "          file: file.name,\n",
              "          data: base64,\n",
              "        },\n",
              "      };\n",
              "\n",
              "      let percentDone = fileData.byteLength === 0 ?\n",
              "          100 :\n",
              "          Math.round((position / fileData.byteLength) * 100);\n",
              "      percent.textContent = `${percentDone}% done`;\n",
              "\n",
              "    } while (position < fileData.byteLength);\n",
              "  }\n",
              "\n",
              "  // All done.\n",
              "  yield {\n",
              "    response: {\n",
              "      action: 'complete',\n",
              "    }\n",
              "  };\n",
              "}\n",
              "\n",
              "scope.google = scope.google || {};\n",
              "scope.google.colab = scope.google.colab || {};\n",
              "scope.google.colab._files = {\n",
              "  _uploadFiles,\n",
              "  _uploadFilesContinue,\n",
              "};\n",
              "})(self);\n",
              "</script> "
            ]
          },
          "metadata": {}
        },
        {
          "output_type": "stream",
          "name": "stdout",
          "text": [
            "Saving data.txt to data (2).txt\n"
          ]
        }
      ]
    },
    {
      "cell_type": "code",
      "execution_count": 4,
      "metadata": {
        "colab": {
          "base_uri": "https://localhost:8080/"
        },
        "id": "aayIWFTJueko",
        "outputId": "2fa081e1-0ef7-455f-c241-97efc39a0989"
      },
      "outputs": [
        {
          "output_type": "stream",
          "name": "stdout",
          "text": [
            "\n",
            "File closed successfully\n"
          ]
        }
      ],
      "source": [
        "try:\n",
        "    file = open(\"data.txt\", \"r\")\n",
        "    content = file.read()\n",
        "    print(content)\n",
        "except FileNotFoundError:\n",
        "    print(\"File not found\")\n",
        "finally:\n",
        "    # This will execute whether an exception occurred or not\n",
        "    if 'file' in locals() and not file.closed:\n",
        "        file.close()\n",
        "        print(\"File closed successfully\")"
      ]
    },
    {
      "cell_type": "markdown",
      "metadata": {
        "id": "px7N1wGCuvrQ"
      },
      "source": [
        "**Question 4.** What is logging in Python?\n",
        "\n",
        "   - Logging in Python is a standardized way to track events in applications using the built-in logging module. It provides flexibility to output messages to various destinations (console, files, etc.) with different severity levels (DEBUG, INFO, WARNING, ERROR, CRITICAL), allowing better troubleshooting than print statements."
      ]
    },
    {
      "cell_type": "markdown",
      "metadata": {
        "id": "F6YB9X_RvhOr"
      },
      "source": [
        "**Question 5.** What is the significance of the del method in Python?\n",
        "  - The del method in Python is a destructor that's automatically called when an object is about to be destroyed (garbage collected). It's useful for cleanup operations like closing file handles or releasing resources, though context managers (with statement) are generally preferred for resource management."
      ]
    },
    {
      "cell_type": "markdown",
      "metadata": {
        "id": "o3YtqQzyvrFQ"
      },
      "source": [
        "**Question 6.** What is the difference between import and from ... import in Python?\n",
        "\n",
        "   - In Python, import module brings in the entire module namespace requiring module.attribute syntax to access its contents. from module import name brings specific attributes directly into the current namespace, allowing use without the module prefix but potentially causing namespace conflicts."
      ]
    },
    {
      "cell_type": "code",
      "execution_count": 5,
      "metadata": {
        "colab": {
          "base_uri": "https://localhost:8080/"
        },
        "id": "ftxhsXFKvst4",
        "outputId": "3de5763d-ed79-4e18-a93d-5a913360c369"
      },
      "outputs": [
        {
          "output_type": "stream",
          "name": "stdout",
          "text": [
            "Area: 78.53981633974483\n",
            "Area: 78.53981633974483\n"
          ]
        }
      ],
      "source": [
        "# Using import\n",
        "import math\n",
        "radius = 5\n",
        "area = math.pi * math.pow(radius, 2)\n",
        "print(f\"Area: {area}\")\n",
        "\n",
        "# Using from...import\n",
        "from math import pi, pow\n",
        "radius = 5\n",
        "area = pi * pow(radius, 2)\n",
        "print(f\"Area: {area}\")"
      ]
    },
    {
      "cell_type": "markdown",
      "metadata": {
        "id": "yiDw2dtRvyk3"
      },
      "source": [
        "**Question 7.** How can you handle multiple exceptions in Python?\n",
        "\n",
        "   - Python allows handling multiple exceptions either by using multiple except blocks for different exception types or by grouping exceptions in a tuple. You can also use a generic except block to catch all unspecified exceptions, though this is less recommended."
      ]
    },
    {
      "cell_type": "code",
      "execution_count": 6,
      "metadata": {
        "colab": {
          "base_uri": "https://localhost:8080/"
        },
        "id": "k92ZiMjYvz6b",
        "outputId": "e15edbcf-7953-402c-af08-30a87079ade1"
      },
      "outputs": [
        {
          "output_type": "stream",
          "name": "stdout",
          "text": [
            "Enter a number: 30\n",
            "3.3333333333333335\n",
            "File not found\n"
          ]
        }
      ],
      "source": [
        "try:\n",
        "  number = int(input(\"Enter a number: \"))\n",
        "  result = 100 / number\n",
        "  print(result)\n",
        "\n",
        "  # Open a file\n",
        "  with open(\"nonexistent.txt\") as file:\n",
        "    content = file.read()\n",
        "\n",
        "except (ValueError, ZeroDivisionError) as e:\n",
        "  # Handle multiple exceptions with one block\n",
        "  print(f\"Number error: {e}\")\n",
        "\n",
        "except FileNotFoundError:\n",
        "  # Handle file error separately\n",
        "  print(\"File not found\")\n",
        "\n",
        "except Exception as e:\n",
        "  # Catch any other exceptions\n",
        "  print(f\"Unexpected error: {e}\")"
      ]
    },
    {
      "cell_type": "markdown",
      "metadata": {
        "id": "nV3WdHtrv8Ht"
      },
      "source": [
        "**Question 8.** What is the purpose of the with statement when handling files in Python?\n",
        "\n",
        "   - The with statement in Python provides context management that automatically handles resource cleanup. When used with files, it ensures they're properly closed even if exceptions occur, eliminating the need for explicit try/finally blocks and making code cleaner and more reliable"
      ]
    },
    {
      "cell_type": "code",
      "execution_count": 7,
      "metadata": {
        "colab": {
          "base_uri": "https://localhost:8080/"
        },
        "id": "4M8eP380v9V6",
        "outputId": "454aa659-3dda-4a2c-a738-502595875f41"
      },
      "outputs": [
        {
          "output_type": "stream",
          "name": "stdout",
          "text": [
            "\n",
            "\n"
          ]
        }
      ],
      "source": [
        "# Without with statement (requires explicit close)\n",
        "try:\n",
        "  file = open(\"data.txt\", \"r\")\n",
        "  content = file.read()\n",
        "  print(content)\n",
        "finally:\n",
        "  file.close()\n",
        "\n",
        "# With the with statement (automatic cleanup)\n",
        "try:\n",
        "  with open(\"data.txt\", \"r\") as file:\n",
        "    content = file.read()\n",
        "    print(content)\n",
        "  # File is automatically closed when exiting the with block\n",
        "except FileNotFoundError:\n",
        "  print(\"File not found\")"
      ]
    },
    {
      "cell_type": "markdown",
      "metadata": {
        "id": "ZBIQlRj8wIsE"
      },
      "source": [
        "**Question 9.** What is the difference between multithreading and multiprocessing?\n",
        "\n",
        "   - Multithreading runs multiple threads within the same process sharing memory space but limited by Python's Global Interpreter Lock (GIL) for CPU-bound tasks. Multiprocessing runs separate processes with independent memory spaces, bypassing the GIL limitation but requiring more resources and inter-process communication."
      ]
    },
    {
      "cell_type": "code",
      "execution_count": 8,
      "metadata": {
        "colab": {
          "base_uri": "https://localhost:8080/"
        },
        "id": "mIcdefJsv-2W",
        "outputId": "662c5b14-2709-4588-bfa0-867e5d28506b"
      },
      "outputs": [
        {
          "output_type": "stream",
          "name": "stdout",
          "text": [
            "Thread 0 startingThread 1 starting\n",
            "\n",
            "Thread 2 starting\n",
            "Thread 1 finished\n",
            "Thread 0 finished\n",
            "Thread 2 finished\n",
            "Process 0 startingProcess 1 starting\n",
            "\n",
            "Process 2 starting\n",
            "Process 1 finished\n",
            "Process 0 finishedProcess 2 finished\n",
            "\n"
          ]
        }
      ],
      "source": [
        "# Multithreading example\n",
        "import threading\n",
        "import time\n",
        "\n",
        "def worker(name):\n",
        "  print(f\"Thread {name} starting\")\n",
        "  time.sleep(1)\n",
        "  print(f\"Thread {name} finished\")\n",
        "\n",
        "threads = []\n",
        "for i in range(3):\n",
        "  t = threading.Thread(target=worker, args=(i,))\n",
        "  threads.append(t)\n",
        "  t.start()\n",
        "\n",
        "for t in threads:\n",
        "  t.join()\n",
        "\n",
        "# Multiprocessing example\n",
        "import multiprocessing\n",
        "\n",
        "def process_worker(name):\n",
        "  print(f\"Process {name} starting\")\n",
        "  time.sleep(1)\n",
        "  print(f\"Process {name} finished\")\n",
        "\n",
        "if __name__ == \"__main__\":\n",
        "  processes = []\n",
        "  for i in range(3):\n",
        "    p = multiprocessing.Process(target=process_worker, args=(i,))\n",
        "    processes.append(p)\n",
        "    p.start()\n",
        "\n",
        "  for p in processes:\n",
        "    p.join()"
      ]
    },
    {
      "cell_type": "markdown",
      "metadata": {
        "id": "Un-4ndOTwQQn"
      },
      "source": [
        "**Question 10.** What are the advantages of using logging in a program?\n",
        "\n",
        "   - Logging offers several advantages over print statements: configurable severity levels, redirectable output to various destinations, consistent formatting with timestamps, module information and line numbers, preservation of execution history, and the ability to enable/disable logging without code changes."
      ]
    },
    {
      "cell_type": "code",
      "execution_count": 9,
      "metadata": {
        "colab": {
          "base_uri": "https://localhost:8080/"
        },
        "id": "MkoYBfXpwL7R",
        "outputId": "de0898d7-69ac-44bf-8e54-567577e114ae"
      },
      "outputs": [
        {
          "output_type": "stream",
          "name": "stderr",
          "text": [
            "ERROR:__main__:Division by zero!\n"
          ]
        }
      ],
      "source": [
        "import logging\n",
        "\n",
        "# Configure logging system once\n",
        "logging.basicConfig(\n",
        "  level=logging.DEBUG,\n",
        "  format='%(asctime)s - %(name)s - %(levelname)s - %(message)s',\n",
        "  handlers=[\n",
        "    logging.FileHandler(\"application.log\"),\n",
        "    logging.StreamHandler()\n",
        "  ]\n",
        ")\n",
        "\n",
        "# Create a logger for this module\n",
        "logger = logging.getLogger(__name__)\n",
        "\n",
        "def divide(x, y):\n",
        "  logger.debug(f\"Dividing {x} by {y}\")\n",
        "  try:\n",
        "    result = x / y\n",
        "    logger.info(f\"Division result: {result}\")\n",
        "    return result\n",
        "  except ZeroDivisionError:\n",
        "    logger.error(\"Division by zero!\")\n",
        "    return None\n",
        "\n",
        "divide(10, 2)  # Normal case\n",
        "divide(5, 0)   # Error case"
      ]
    },
    {
      "cell_type": "markdown",
      "metadata": {
        "id": "f7tP7p7JwaG4"
      },
      "source": [
        "**Question 11.** What is memory management in Python?\n",
        "\n",
        "   - Memory management in Python is automated through reference counting and garbage collection. Python tracks how many references point to each object, deallocating memory when the count reaches zero. A cyclic garbage collector periodically identifies and cleans up reference cycles that the reference counter misses."
      ]
    },
    {
      "cell_type": "code",
      "execution_count": 10,
      "metadata": {
        "colab": {
          "base_uri": "https://localhost:8080/"
        },
        "id": "5RgdIgACwUpO",
        "outputId": "a80cc610-3e6f-4829-e883-e8ccdf716a54"
      },
      "outputs": [
        {
          "output_type": "stream",
          "name": "stdout",
          "text": [
            "Garbage collector thresholds: (700, 10, 10)\n",
            "Garbage collection counts: (34, 0, 0)\n"
          ]
        }
      ],
      "source": [
        "import gc  # Garbage collection module\n",
        "\n",
        "# Creating objects\n",
        "a = [1, 2, 3]  # Reference count for this list is 1\n",
        "b = a          # Reference count becomes 2\n",
        "c = [a, b]     # Reference count becomes 3\n",
        "\n",
        "# Reducing references\n",
        "b = None       # Reference count becomes 2\n",
        "a = None       # Reference count becomes 1 (only c references it now)\n",
        "\n",
        "# Creating a reference cycle\n",
        "x = {}\n",
        "y = {}\n",
        "x['y'] = y     # x references y\n",
        "y['x'] = x     # y references x\n",
        "\n",
        "# Force garbage collection\n",
        "gc.collect()   # Returns number of unreachable objects collected\n",
        "\n",
        "print(f\"Garbage collector thresholds: {gc.get_threshold()}\")\n",
        "print(f\"Garbage collection counts: {gc.get_count()}\")"
      ]
    },
    {
      "cell_type": "markdown",
      "metadata": {
        "id": "wXNmnQCSwhu4"
      },
      "source": [
        "**Question 12.** What are the basic steps involved in exception handling in Python?\n",
        "\n",
        "  - The basic steps in Python exception handling are: placing risky code in a try block, defining except blocks to catch specific exceptions, optionally providing an else block for code that runs if no exceptions occur, and a finally block for cleanup code that runs regardless of exceptions."
      ]
    },
    {
      "cell_type": "code",
      "execution_count": 11,
      "metadata": {
        "colab": {
          "base_uri": "https://localhost:8080/"
        },
        "id": "mHbIOn5dwdtu",
        "outputId": "a165b3b8-0eaa-4cd6-96a5-f832c7ee3649"
      },
      "outputs": [
        {
          "output_type": "stream",
          "name": "stdout",
          "text": [
            "Enter a numerator: 20\n",
            "Enter a denominator: 10\n",
            "Division successful\n",
            "Division operation completed\n"
          ]
        },
        {
          "output_type": "execute_result",
          "data": {
            "text/plain": [
              "2.0"
            ]
          },
          "metadata": {},
          "execution_count": 11
        }
      ],
      "source": [
        "def safe_division():\n",
        "  try:\n",
        "    # Step 1: Place risky code in the try block\n",
        "    x = int(input(\"Enter a numerator: \"))\n",
        "    y = int(input(\"Enter a denominator: \"))\n",
        "    result = x / y\n",
        "\n",
        "  except ValueError:\n",
        "    # Step 2: Catch specific exceptions\n",
        "    print(\"Please enter valid integers\")\n",
        "    return None\n",
        "\n",
        "  except ZeroDivisionError:\n",
        "    print(\"Cannot divide by zero\")\n",
        "    return None\n",
        "\n",
        "  else:\n",
        "    # Step 3: Execute if no exceptions occurred\n",
        "    print(\"Division successful\")\n",
        "    return result\n",
        "\n",
        "  finally:\n",
        "    # Step 4: Cleanup code that always runs\n",
        "    print(\"Division operation completed\")\n",
        "\n",
        "# Test the function\n",
        "safe_division()"
      ]
    },
    {
      "cell_type": "markdown",
      "metadata": {
        "id": "Wr3MKt26wsqR"
      },
      "source": [
        "**Question 13.** Why is memory management important in Python?\n",
        "\n",
        "  - Memory management is crucial in Python to prevent memory leaks and optimize performance. Without proper management, applications may consume excessive memory, slowing down or crashing. Python's garbage collector automatically reclaims unused memory, but developers should understand reference counts and avoid circular references."
      ]
    },
    {
      "cell_type": "code",
      "execution_count": 12,
      "metadata": {
        "colab": {
          "base_uri": "https://localhost:8080/"
        },
        "id": "jswmYgRbww36",
        "outputId": "7b8849d8-7b05-4124-8ade-b75d65acb25e"
      },
      "outputs": [
        {
          "output_type": "stream",
          "name": "stdout",
          "text": [
            "Size of integer: 28 bytes\n",
            "Size of string: 62 bytes\n",
            "Size of list: 8856 bytes\n",
            "Iteration 0, list length: 1\n",
            "Iteration 1, list length: 2\n",
            "Iteration 2, list length: 3\n",
            "Iteration 3, list length: 4\n",
            "Iteration 4, list length: 5\n",
            "Iteration 5, list length: 6\n",
            "Iteration 6, list length: 7\n",
            "Iteration 7, list length: 8\n",
            "Iteration 8, list length: 9\n",
            "Iteration 9, list length: 10\n",
            "Iteration 10, list length: 11\n",
            "Clearing some memory...\n",
            "Iteration 11, list length: 6\n",
            "Iteration 12, list length: 7\n",
            "Iteration 13, list length: 8\n",
            "Iteration 14, list length: 9\n",
            "Iteration 15, list length: 10\n",
            "Iteration 16, list length: 11\n",
            "Iteration 17, list length: 12\n",
            "Iteration 18, list length: 13\n",
            "Iteration 19, list length: 14\n",
            "Iteration 20, list length: 15\n",
            "Clearing some memory...\n",
            "Iteration 21, list length: 6\n",
            "Iteration 22, list length: 7\n",
            "Iteration 23, list length: 8\n",
            "Iteration 24, list length: 9\n",
            "Iteration 25, list length: 10\n",
            "Iteration 26, list length: 11\n",
            "Iteration 27, list length: 12\n",
            "Iteration 28, list length: 13\n",
            "Iteration 29, list length: 14\n",
            "Iteration 30, list length: 15\n",
            "Clearing some memory...\n",
            "Iteration 31, list length: 6\n",
            "Iteration 32, list length: 7\n",
            "Iteration 33, list length: 8\n",
            "Iteration 34, list length: 9\n",
            "Iteration 35, list length: 10\n",
            "Iteration 36, list length: 11\n",
            "Iteration 37, list length: 12\n",
            "Iteration 38, list length: 13\n",
            "Iteration 39, list length: 14\n",
            "Iteration 40, list length: 15\n",
            "Clearing some memory...\n",
            "Iteration 41, list length: 6\n",
            "Iteration 42, list length: 7\n",
            "Iteration 43, list length: 8\n",
            "Iteration 44, list length: 9\n",
            "Iteration 45, list length: 10\n",
            "Iteration 46, list length: 11\n",
            "Iteration 47, list length: 12\n",
            "Iteration 48, list length: 13\n",
            "Iteration 49, list length: 14\n",
            "Iteration 50, list length: 15\n",
            "Clearing some memory...\n",
            "Iteration 51, list length: 6\n",
            "Iteration 52, list length: 7\n",
            "Iteration 53, list length: 8\n",
            "Iteration 54, list length: 9\n",
            "Iteration 55, list length: 10\n",
            "Iteration 56, list length: 11\n",
            "Iteration 57, list length: 12\n",
            "Iteration 58, list length: 13\n",
            "Iteration 59, list length: 14\n",
            "Iteration 60, list length: 15\n",
            "Clearing some memory...\n",
            "Iteration 61, list length: 6\n",
            "Iteration 62, list length: 7\n",
            "Iteration 63, list length: 8\n",
            "Iteration 64, list length: 9\n",
            "Iteration 65, list length: 10\n",
            "Iteration 66, list length: 11\n",
            "Iteration 67, list length: 12\n",
            "Iteration 68, list length: 13\n",
            "Iteration 69, list length: 14\n",
            "Iteration 70, list length: 15\n",
            "Clearing some memory...\n",
            "Iteration 71, list length: 6\n",
            "Iteration 72, list length: 7\n",
            "Iteration 73, list length: 8\n",
            "Iteration 74, list length: 9\n",
            "Iteration 75, list length: 10\n",
            "Iteration 76, list length: 11\n",
            "Iteration 77, list length: 12\n",
            "Iteration 78, list length: 13\n",
            "Iteration 79, list length: 14\n",
            "Iteration 80, list length: 15\n",
            "Clearing some memory...\n",
            "Iteration 81, list length: 6\n",
            "Iteration 82, list length: 7\n",
            "Iteration 83, list length: 8\n",
            "Iteration 84, list length: 9\n",
            "Iteration 85, list length: 10\n",
            "Iteration 86, list length: 11\n",
            "Iteration 87, list length: 12\n",
            "Iteration 88, list length: 13\n",
            "Iteration 89, list length: 14\n",
            "Iteration 90, list length: 15\n",
            "Clearing some memory...\n",
            "Iteration 91, list length: 6\n",
            "Iteration 92, list length: 7\n",
            "Iteration 93, list length: 8\n",
            "Iteration 94, list length: 9\n",
            "Iteration 95, list length: 10\n",
            "Iteration 96, list length: 11\n",
            "Iteration 97, list length: 12\n",
            "Iteration 98, list length: 13\n",
            "Iteration 99, list length: 14\n"
          ]
        }
      ],
      "source": [
        "import sys\n",
        "\n",
        "# Demonstrating memory usage\n",
        "def memory_usage_demo():\n",
        "  # Create different objects and check their memory size\n",
        "  x = 10  # Integer\n",
        "  y = \"Hello, World!\"  # String\n",
        "  z = [i for i in range(1000)]  # List with 1000 elements\n",
        "\n",
        "  print(f\"Size of integer: {sys.getsizeof(x)} bytes\")\n",
        "  print(f\"Size of string: {sys.getsizeof(y)} bytes\")\n",
        "  print(f\"Size of list: {sys.getsizeof(z)} bytes\")\n",
        "\n",
        "  # Memory leak example - creating references in a loop\n",
        "  big_list = []\n",
        "  for i in range(100):\n",
        "    big_list.append([0] * 1000000)  # Each iteration adds ~8MB\n",
        "    print(f\"Iteration {i}, list length: {len(big_list)}\")\n",
        "\n",
        "    # Proper memory management - delete references when done\n",
        "    if i % 10 == 0 and i > 0:\n",
        "      print(\"Clearing some memory...\")\n",
        "      big_list = big_list[-5:]  # Keep only the last 5 elements\n",
        "\n",
        "memory_usage_demo()"
      ]
    },
    {
      "cell_type": "markdown",
      "metadata": {
        "id": "VRGDNg1Iw3hP"
      },
      "source": [
        "**Question 14.** What is the role of try and except in exception handling?\n",
        "\n",
        "  - In Python's exception handling, the try block contains code that might raise an exception, while except blocks define how to handle specific exceptions. This structure allows programs to gracefully recover from errors rather than crashing, improving robustness and user experience."
      ]
    },
    {
      "cell_type": "code",
      "execution_count": 13,
      "metadata": {
        "colab": {
          "base_uri": "https://localhost:8080/"
        },
        "id": "M_GO6kfcwlLD",
        "outputId": "e8134319-8660-49da-9638-fa409db8a064"
      },
      "outputs": [
        {
          "output_type": "stream",
          "name": "stdout",
          "text": [
            "Enter username: Naman\n",
            "Enter age: 24\n",
            "User data captured: {'username': 'Naman', 'age': 24}\n"
          ]
        }
      ],
      "source": [
        "def read_user_data():\n",
        "  try:\n",
        "    # Code that might raise exceptions\n",
        "    username = input(\"Enter username: \")\n",
        "    if len(username) < 3:\n",
        "      raise ValueError(\"Username too short\")\n",
        "\n",
        "    age = int(input(\"Enter age: \"))\n",
        "    if age < 0 or age > 120:\n",
        "      raise ValueError(\"Invalid age\")\n",
        "\n",
        "    return {\"username\": username, \"age\": age}\n",
        "\n",
        "  except ValueError as e:\n",
        "    # Handle the specific exception\n",
        "    print(f\"Input error: {e}\")\n",
        "    return None\n",
        "\n",
        "  except Exception as e:\n",
        "    # Handle any other exceptions\n",
        "    print(f\"Unexpected error: {e}\")\n",
        "    return None\n",
        "\n",
        "# Test the function\n",
        "user_data = read_user_data()\n",
        "if user_data:\n",
        "  print(f\"User data captured: {user_data}\")"
      ]
    },
    {
      "cell_type": "markdown",
      "metadata": {
        "id": "CvjsJAd7xElM"
      },
      "source": [
        "**Question 15.** How does Python's garbage collection system work?\n",
        "\n",
        "  - Python's garbage collection uses reference counting as its primary mechanism, tracking how many references point to each object. When the count reaches zero, memory is freed immediately. Additionally, a generational cyclic garbage collector runs periodically to identify and clean up reference cycles not caught by reference counting"
      ]
    },
    {
      "cell_type": "code",
      "execution_count": 14,
      "metadata": {
        "colab": {
          "base_uri": "https://localhost:8080/"
        },
        "id": "TPJsFZ8vw67H",
        "outputId": "d1575f66-ccdf-42e8-bb94-0691f51b5230"
      },
      "outputs": [
        {
          "output_type": "stream",
          "name": "stdout",
          "text": [
            "Creating objects...\n",
            "Creating reference cycle...\n",
            "Reference count for a: 2\n",
            "Reference count for b: 2\n",
            "Removing references...\n",
            "Running garbage collection...\n",
            "Number of objects collected: 2\n",
            "GC counts: (30, 0, 0)\n",
            "GC threshold: (700, 10, 10)\n"
          ]
        },
        {
          "output_type": "stream",
          "name": "stderr",
          "text": [
            "gc: collectable <list 0x7a7df6d62a40>\n",
            "gc: collectable <list 0x7a7df64ea140>\n"
          ]
        }
      ],
      "source": [
        "import gc\n",
        "import sys\n",
        "\n",
        "# Enable garbage collector debugging\n",
        "gc.set_debug(gc.DEBUG_LEAK)\n",
        "\n",
        "# Create objects\n",
        "print(\"Creating objects...\")\n",
        "a = [1, 2, 3, 4]\n",
        "b = [5, 6, 7, 8]\n",
        "\n",
        "# Create a reference cycle\n",
        "print(\"Creating reference cycle...\")\n",
        "a.append(b)\n",
        "b.append(a)\n",
        "\n",
        "# Check reference counts\n",
        "print(f\"Reference count for a: {sys.getrefcount(a) - 1}\")  # -1 for getrefcount's own reference\n",
        "print(f\"Reference count for b: {sys.getrefcount(b) - 1}\")\n",
        "\n",
        "# Remove our references\n",
        "print(\"Removing references...\")\n",
        "a = None\n",
        "b = None\n",
        "\n",
        "# Run garbage collection and see what it collects\n",
        "print(\"Running garbage collection...\")\n",
        "collected = gc.collect()\n",
        "print(f\"Number of objects collected: {collected}\")\n",
        "\n",
        "# Show garbage collection statistics\n",
        "print(f\"GC counts: {gc.get_count()}\")\n",
        "print(f\"GC threshold: {gc.get_threshold()}\")"
      ]
    },
    {
      "cell_type": "markdown",
      "metadata": {
        "id": "xzewWlRcyAIU"
      },
      "source": [
        "**Question 16.** What is the purpose of the else block in exception handling?\n",
        "\n",
        "  - The else block in Python exception handling executes only if no exceptions are raised in the try block. This separates normal execution code from exception handling, making the flow clearer and preventing the handling of exceptions that might occur in code that should run only when the try block succeeds."
      ]
    },
    {
      "cell_type": "code",
      "execution_count": 15,
      "metadata": {
        "colab": {
          "base_uri": "https://localhost:8080/"
        },
        "id": "6ComkzLTxIGi",
        "outputId": "4f67ef43-ae3c-43bc-fff7-ae41cdeddec8"
      },
      "outputs": [
        {
          "output_type": "stream",
          "name": "stdout",
          "text": [
            "Error: The file 'existing_file.txt' does not exist\n",
            "File operation attempted\n",
            "Error: The file 'nonexistent_file.txt' does not exist\n",
            "File operation attempted\n"
          ]
        }
      ],
      "source": [
        "def process_file(filename):\n",
        "  try:\n",
        "    file = open(filename, 'r')\n",
        "\n",
        "  except FileNotFoundError:\n",
        "    print(f\"Error: The file '{filename}' does not exist\")\n",
        "    return None\n",
        "\n",
        "  else:\n",
        "    # This runs only if no exceptions occurred in the try block\n",
        "    content = file.read()\n",
        "    line_count = len(content.split('\\n'))\n",
        "    print(f\"File processed successfully: {line_count} lines\")\n",
        "    file.close()\n",
        "    return content\n",
        "\n",
        "  finally:\n",
        "    print(\"File operation attempted\")\n",
        "\n",
        "# Test with existing and non-existing files\n",
        "process_file(\"existing_file.txt\")\n",
        "process_file(\"nonexistent_file.txt\")"
      ]
    },
    {
      "cell_type": "markdown",
      "metadata": {
        "id": "Zvkmm-6WyOrg"
      },
      "source": [
        "**Question 17.** What are the common logging levels in Python?\n",
        "\n",
        "  - Python's logging module provides five standard levels of severity: DEBUG (detailed diagnostic info), INFO (confirmation of normal operation), WARNING (indication of potential issues), ERROR (program failed to perform a function), and CRITICAL (program may not continue running). Each level has a numeric value for filtering."
      ]
    },
    {
      "cell_type": "code",
      "execution_count": 16,
      "metadata": {
        "colab": {
          "base_uri": "https://localhost:8080/"
        },
        "id": "_en3QQ6NyJ21",
        "outputId": "69bd474e-16be-4926-97c3-05b0c7a41520"
      },
      "outputs": [
        {
          "output_type": "stream",
          "name": "stderr",
          "text": [
            "WARNING:root:This is a WARNING - something unexpected happened\n",
            "ERROR:root:This is an ERROR - the software failed to perform a function\n",
            "CRITICAL:root:This is CRITICAL - program may not continue running\n"
          ]
        },
        {
          "output_type": "stream",
          "name": "stdout",
          "text": [
            "DEBUG level value: 10\n",
            "INFO level value: 20\n",
            "WARNING level value: 30\n",
            "ERROR level value: 40\n",
            "CRITICAL level value: 50\n"
          ]
        }
      ],
      "source": [
        "import logging\n",
        "\n",
        "# Configure logging with all levels visible\n",
        "logging.basicConfig(\n",
        "  level=logging.DEBUG,\n",
        "  format='%(asctime)s - %(levelname)s - %(message)s'\n",
        ")\n",
        "\n",
        "def demonstrate_log_levels():\n",
        "  # The five standard logging levels, from lowest to highest severity\n",
        "  logging.debug(\"This is a DEBUG message - detailed information for diagnosis\")\n",
        "  logging.info(\"This is an INFO message - confirmation that things are working\")\n",
        "  logging.warning(\"This is a WARNING - something unexpected happened\")\n",
        "  logging.error(\"This is an ERROR - the software failed to perform a function\")\n",
        "  logging.critical(\"This is CRITICAL - program may not continue running\")\n",
        "\n",
        "  # Show the numeric values of each level\n",
        "  print(f\"DEBUG level value: {logging.DEBUG}\")\n",
        "  print(f\"INFO level value: {logging.INFO}\")\n",
        "  print(f\"WARNING level value: {logging.WARNING}\")\n",
        "  print(f\"ERROR level value: {logging.ERROR}\")\n",
        "  print(f\"CRITICAL level value: {logging.CRITICAL}\")\n",
        "\n",
        "demonstrate_log_levels()"
      ]
    },
    {
      "cell_type": "markdown",
      "metadata": {
        "id": "QPgwnD-Bz5sU"
      },
      "source": [
        "**Question 18.**What is the difference between os.fork() and multiprocessing in Python?\n",
        "\n",
        "  - os.fork() is a low-level Unix-specific system call that duplicates the current process, while multiprocessing is a higher-level cross-platform module for spawning processes. multiprocessing offers safer process creation, better inter-process communication tools, and works on Windows, where fork() isn't available."
      ]
    },
    {
      "cell_type": "code",
      "execution_count": 17,
      "metadata": {
        "colab": {
          "base_uri": "https://localhost:8080/"
        },
        "id": "TIaQfYgzyR0A",
        "outputId": "3fb0d29d-f02d-4954-8faf-ad511b19a75a"
      },
      "outputs": [
        {
          "output_type": "stream",
          "name": "stdout",
          "text": [
            "Running fork example:\n",
            "Parent process ID: 19013\n",
            "I am the child process with PID: 19268\n",
            "Running fork example:\n",
            "Parent process ID: 19013\n",
            "Child process created with PID: 19268\n",
            "\n",
            "Running multiprocessing example:\n",
            "Main process ID: 19013\n",
            "Worker process ID: 19277\n",
            "Child process created with PID: 19277\n"
          ]
        }
      ],
      "source": [
        "# Example 1: Using os.fork() (Unix/Linux only)\n",
        "import os\n",
        "import time\n",
        "\n",
        "def fork_example():\n",
        "  print(f\"Parent process ID: {os.getpid()}\")\n",
        "\n",
        "  # Create a child process\n",
        "  pid = os.fork()\n",
        "\n",
        "  if pid > 0:\n",
        "    # Parent process\n",
        "    print(f\"Child process created with PID: {pid}\")\n",
        "    time.sleep(1)\n",
        "  else:\n",
        "    # Child process\n",
        "    print(f\"I am the child process with PID: {os.getpid()}\")\n",
        "    time.sleep(1)\n",
        "    os._exit(0)  # Exit child process\n",
        "\n",
        "# Example 2: Using multiprocessing (cross-platform)\n",
        "import multiprocessing\n",
        "\n",
        "def worker():\n",
        "  print(f\"Worker process ID: {os.getpid()}\")\n",
        "  time.sleep(1)\n",
        "\n",
        "def multiprocessing_example():\n",
        "  print(f\"Main process ID: {os.getpid()}\")\n",
        "\n",
        "  # Create a child process\n",
        "  p = multiprocessing.Process(target=worker)\n",
        "  p.start()\n",
        "  print(f\"Child process created with PID: {p.pid}\")\n",
        "  p.join()\n",
        "\n",
        "# Run the appropriate example based on platform\n",
        "if os.name == 'posix':  # Unix/Linux/MacOS\n",
        "  print(\"Running fork example:\")\n",
        "  fork_example()\n",
        "\n",
        "print(\"\\nRunning multiprocessing example:\")\n",
        "multiprocessing_example()"
      ]
    },
    {
      "cell_type": "markdown",
      "metadata": {
        "id": "149s3dfi0AX0"
      },
      "source": [
        "**Question 19.** What is the importance of closing a file in Python?\n",
        "\n",
        "  - Closing files in Python is crucial to prevent resource leaks, ensure data is written to disk, avoid corruption, and maintain system performance. Unclosed files may lead to file locks preventing other processes from accessing them and can cause memory leaks in long-running applications"
      ]
    },
    {
      "cell_type": "code",
      "execution_count": 18,
      "metadata": {
        "colab": {
          "base_uri": "https://localhost:8080/"
        },
        "id": "sXj_RNDCz9CN",
        "outputId": "6795af8a-cca3-4a8b-9d0a-28b68df1563f"
      },
      "outputs": [
        {
          "output_type": "stream",
          "name": "stdout",
          "text": [
            "\n"
          ]
        }
      ],
      "source": [
        "# Bad practice - not closing files\n",
        "def read_without_closing():\n",
        "  file = open(\"data.txt\", \"r\")\n",
        "  content = file.read()\n",
        "  return content  # File is never closed!\n",
        "\n",
        "# Good practice - explicitly closing files\n",
        "def read_with_closing():\n",
        "  file = open(\"data.txt\", \"r\")\n",
        "  try:\n",
        "    content = file.read()\n",
        "    return content\n",
        "  finally:\n",
        "    file.close()  # Always close the file\n",
        "\n",
        "# Best practice - using with statement\n",
        "def read_with_context_manager():\n",
        "  with open(\"data.txt\", \"r\") as file:\n",
        "    content = file.read()\n",
        "    return content  # File automatically closed when with block exits\n",
        "\n",
        "# Demonstrating the issue with not closing files\n",
        "def demonstrate_file_closing():\n",
        "  # Create a test file\n",
        "  with open(\"data.txt\", \"w\") as f:\n",
        "    f.write(\"This is test data\")\n",
        "\n",
        "  # Open the file multiple times without closing\n",
        "  files = []\n",
        "  try:\n",
        "    for i in range(1000):  # On some systems, this could lead to \"too many open files\" error\n",
        "      files.append(open(\"data.txt\", \"r\"))\n",
        "      print(f\"Opened file #{i+1}\")\n",
        "  except Exception as e:\n",
        "    print(f\"Error occurred: {e}\")\n",
        "  finally:\n",
        "    # Clean up (in a real scenario, these wouldn't be closed if not tracked)\n",
        "    for f in files:\n",
        "      f.close()\n",
        "\n",
        "    print(f\"Closed {len(files)} files\")\n",
        "\n",
        "# Use the context manager approach instead\n",
        "with open(\"data.txt\", \"r\") as file:\n",
        "  print(file.read())"
      ]
    },
    {
      "cell_type": "markdown",
      "metadata": {
        "id": "7-XySnzM0H1s"
      },
      "source": [
        "**Question 20.** What is the difference between file.read() and file.readline() in Python?\n",
        "\n",
        "  - file.read() reads the entire file content at once, returning it as a single string, which is memory-efficient for small files but problematic for large ones. file.readline() reads one line at a time, allowing efficient processing of large files line by line without loading everything into memory."
      ]
    },
    {
      "cell_type": "code",
      "execution_count": 19,
      "metadata": {
        "colab": {
          "base_uri": "https://localhost:8080/"
        },
        "id": "-LF9RTPU0DDk",
        "outputId": "60949068-1bd2-47ff-caa1-eb7843473aef"
      },
      "outputs": [
        {
          "output_type": "stream",
          "name": "stdout",
          "text": [
            "Using file.read():\n",
            "Content length: 78 characters\n",
            "Content: Line 1: Hello World\n",
            "Line 2: Python File Handling\n",
            "Line 3: This is the last line\n",
            "\n",
            "Using file.readline():\n",
            "Line 1: Line 1: Hello World\n",
            "Line 2: Line 2: Python File Handling\n",
            "Line 3: Line 3: This is the last line\n",
            "\n",
            "Total lines in file: 3\n"
          ]
        }
      ],
      "source": [
        "# Create a sample file\n",
        "with open(\"sample.txt\", \"w\") as file:\n",
        "  file.write(\"Line 1: Hello World\\n\")\n",
        "  file.write(\"Line 2: Python File Handling\\n\")\n",
        "  file.write(\"Line 3: This is the last line\")\n",
        "\n",
        "# Using file.read() - reads entire content at once\n",
        "with open(\"sample.txt\", \"r\") as file:\n",
        "  content = file.read()\n",
        "  print(\"Using file.read():\")\n",
        "  print(f\"Content length: {len(content)} characters\")\n",
        "  print(f\"Content: {content}\")\n",
        "\n",
        "# Using file.readline() - reads line by line\n",
        "with open(\"sample.txt\", \"r\") as file:\n",
        "  print(\"\\nUsing file.readline():\")\n",
        "  line_number = 1\n",
        "  while True:\n",
        "    line = file.readline()\n",
        "    if not line:  # Empty string indicates end of file\n",
        "      break\n",
        "    print(f\"Line {line_number}: {line.strip()}\")\n",
        "    line_number += 1\n",
        "\n",
        "# Processing large files with readline() is more memory efficient\n",
        "def count_lines(filename):\n",
        "  with open(filename, \"r\") as file:\n",
        "    line_count = 0\n",
        "    while file.readline():\n",
        "      line_count += 1\n",
        "    return line_count\n",
        "\n",
        "print(f\"\\nTotal lines in file: {count_lines('sample.txt')}\")"
      ]
    },
    {
      "cell_type": "markdown",
      "metadata": {
        "id": "svj5IRuU0Pph"
      },
      "source": [
        "**Question 21.**What is the logging module in Python used for?\n",
        "\n",
        "   - The logging module in Python provides a flexible framework for emitting log messages from applications. It offers configurable severity levels, various output destinations (console, files, network), formatting options, and hierarchical loggers. It's preferred over print statements for production code due to its flexibility and control."
      ]
    },
    {
      "cell_type": "code",
      "execution_count": 20,
      "metadata": {
        "colab": {
          "base_uri": "https://localhost:8080/"
        },
        "id": "A_U2qAZo0Kd9",
        "outputId": "6bc1f866-7bff-42f0-9510-e542e3562bb5"
      },
      "outputs": [
        {
          "output_type": "stream",
          "name": "stderr",
          "text": [
            "ERROR:my_application:Invalid order #102: Order contains no items\n",
            "WARNING:my_application:High-value order #123: $1200.00\n",
            "CRITICAL:my_application:Failed to process order #123: Database connection failed\n"
          ]
        },
        {
          "output_type": "execute_result",
          "data": {
            "text/plain": [
              "0"
            ]
          },
          "metadata": {},
          "execution_count": 20
        }
      ],
      "source": [
        "import logging\n",
        "import os\n",
        "\n",
        "# Configure logging to write to both console and file\n",
        "logging.basicConfig(\n",
        "  level=logging.DEBUG,\n",
        "  format='%(asctime)s - %(name)s - %(levelname)s - %(message)s',\n",
        "  handlers=[\n",
        "    logging.FileHandler(\"app.log\"),\n",
        "    logging.StreamHandler()\n",
        "  ]\n",
        ")\n",
        "\n",
        "# Create a custom logger\n",
        "logger = logging.getLogger(\"my_application\")\n",
        "\n",
        "def process_order(order_id, items):\n",
        "  logger.info(f\"Processing order #{order_id} with {len(items)} items\")\n",
        "\n",
        "  try:\n",
        "    if not items:\n",
        "      raise ValueError(\"Order contains no items\")\n",
        "\n",
        "    total = sum(item.get('price', 0) for item in items)\n",
        "    logger.debug(f\"Order #{order_id} total calculated: ${total:.2f}\")\n",
        "\n",
        "    if total > 1000:\n",
        "      logger.warning(f\"High-value order #{order_id}: ${total:.2f}\")\n",
        "\n",
        "    # Simulate database access\n",
        "    if order_id == 123:\n",
        "      raise ConnectionError(\"Database connection failed\")\n",
        "\n",
        "    logger.info(f\"Order #{order_id} processed successfully\")\n",
        "    return total\n",
        "\n",
        "  except ValueError as e:\n",
        "    logger.error(f\"Invalid order #{order_id}: {e}\")\n",
        "    return 0\n",
        "  except Exception as e:\n",
        "    logger.critical(f\"Failed to process order #{order_id}: {e}\")\n",
        "    return 0\n",
        "\n",
        "# Process some sample orders\n",
        "process_order(101, [{'item': 'Book', 'price': 10}, {'item': 'Pen', 'price': 5}])\n",
        "process_order(102, [])\n",
        "process_order(123, [{'item': 'Laptop', 'price': 1200}])"
      ]
    },
    {
      "cell_type": "markdown",
      "metadata": {
        "id": "cjKHZI3F0XNf"
      },
      "source": [
        "**Question 22.** What is the os module in Python used for in file handling?\n",
        "\n",
        "   - The os module in Python provides functions for interacting with the operating system, particularly for file and directory operations. It allows for platform-independent file manipulation like creating, removing, renaming files/directories, getting file information, setting permissions, and navigating the file system"
      ]
    },
    {
      "cell_type": "code",
      "execution_count": 21,
      "metadata": {
        "colab": {
          "base_uri": "https://localhost:8080/"
        },
        "id": "oPHsQDgz0S_f",
        "outputId": "04a6fa14-11a6-451d-fef7-a33120f9b9f6"
      },
      "outputs": [
        {
          "output_type": "stream",
          "name": "stdout",
          "text": [
            "Current directory: /content\n",
            "Created directory: test_dir\n",
            "Created file: test_dir/test_file.txt\n",
            "File size: 18 bytes\n",
            "Created: Thu May 15 09:32:41 2025\n",
            "Last modified: Thu May 15 09:32:41 2025\n",
            "Renamed file to: test_dir/renamed_file.txt\n",
            "Directory contents: ['renamed_file.txt']\n",
            "Is file? True\n",
            "Is directory? True\n",
            "Removed file: test_dir/renamed_file.txt\n",
            "Removed directory: test_dir\n"
          ]
        }
      ],
      "source": [
        "import os\n",
        "import time\n",
        "\n",
        "def demonstrate_os_file_operations():\n",
        "  # Current working directory\n",
        "  print(f\"Current directory: {os.getcwd()}\")\n",
        "\n",
        "  # Create a new directory\n",
        "  if not os.path.exists(\"test_dir\"):\n",
        "    os.mkdir(\"test_dir\")\n",
        "    print(\"Created directory: test_dir\")\n",
        "\n",
        "  # Create a file path using os.path.join (platform independent)\n",
        "  file_path = os.path.join(\"test_dir\", \"test_file.txt\")\n",
        "\n",
        "  # Write to a file\n",
        "  with open(file_path, \"w\") as file:\n",
        "    file.write(\"Hello from Python!\")\n",
        "  print(f\"Created file: {file_path}\")\n",
        "\n",
        "  # Get file information\n",
        "  file_stats = os.stat(file_path)\n",
        "  print(f\"File size: {file_stats.st_size} bytes\")\n",
        "  print(f\"Created: {time.ctime(file_stats.st_ctime)}\")\n",
        "  print(f\"Last modified: {time.ctime(file_stats.st_mtime)}\")\n",
        "\n",
        "  # Rename the file\n",
        "  new_path = os.path.join(\"test_dir\", \"renamed_file.txt\")\n",
        "  os.rename(file_path, new_path)\n",
        "  print(f\"Renamed file to: {new_path}\")\n",
        "\n",
        "  # List directory contents\n",
        "  print(f\"Directory contents: {os.listdir('test_dir')}\")\n",
        "\n",
        "  # Check if path exists and its type\n",
        "  print(f\"Is file? {os.path.isfile(new_path)}\")\n",
        "  print(f\"Is directory? {os.path.isdir('test_dir')}\")\n",
        "\n",
        "  # Remove file\n",
        "  os.remove(new_path)\n",
        "  print(f\"Removed file: {new_path}\")\n",
        "\n",
        "  # Remove directory\n",
        "  os.rmdir(\"test_dir\")\n",
        "  print(\"Removed directory: test_dir\")\n",
        "\n",
        "demonstrate_os_file_operations()"
      ]
    },
    {
      "cell_type": "markdown",
      "metadata": {
        "id": "lHIzkN-k0ebx"
      },
      "source": [
        "**Question 23.**What are the challenges associated with memory management in Python?\n",
        "\n",
        "  - Memory management challenges in Python include handling large datasets efficiently, avoiding memory leaks from circular references, managing resources properly, dealing with the overhead of reference counting, and understanding the delayed cleanup of objects due to garbage collection timing, especially when working with limited-memory environments."
      ]
    },
    {
      "cell_type": "code",
      "execution_count": 22,
      "metadata": {
        "colab": {
          "base_uri": "https://localhost:8080/"
        },
        "id": "Ef0Ey-Q30axB",
        "outputId": "462e290d-53f8-49f4-dabb-29d1e3056f78"
      },
      "outputs": [
        {
          "output_type": "stream",
          "name": "stdout",
          "text": [
            "CHALLENGE 1: Circular References\n",
            "Node A created\n",
            "Node B created\n",
            "Removing direct references...\n",
            "Garbage collection needed to clean up...\n",
            "Node A destroyed\n",
            "Node B destroyed\n",
            "Cleanup complete\n",
            "\n",
            "CHALLENGE 2: Large Data Sets\n",
            "Creating large list...\n"
          ]
        },
        {
          "output_type": "stream",
          "name": "stderr",
          "text": [
            "gc: collectable <Node 0x7a7df647ebd0>\n",
            "gc: collectable <list 0x7a7df650c980>\n",
            "gc: collectable <Node 0x7a7df65356d0>\n",
            "gc: collectable <list 0x7a7df650c340>\n"
          ]
        },
        {
          "output_type": "stream",
          "name": "stdout",
          "text": [
            "List size: 8448728 bytes\n",
            "Using generator instead...\n",
            "Generator size: 200 bytes\n",
            "\n",
            "CHALLENGE 3: Resource Management\n",
            "Resource database acquired\n",
            "Resource database released\n",
            "Resource file acquired\n",
            "Resource file released\n",
            "Resource network acquired\n",
            "Resource network released\n"
          ]
        }
      ],
      "source": [
        "import gc\n",
        "import sys\n",
        "import time\n",
        "import weakref\n",
        "\n",
        "# Challenge 1: Memory leaks with circular references\n",
        "def demonstrate_circular_reference():\n",
        "  print(\"CHALLENGE 1: Circular References\")\n",
        "\n",
        "  class Node:\n",
        "    def __init__(self, name):\n",
        "      self.name = name\n",
        "      self.references = []\n",
        "      print(f\"Node {name} created\")\n",
        "\n",
        "    def __del__(self):\n",
        "      print(f\"Node {self.name} destroyed\")\n",
        "\n",
        "  # Create objects that reference each other\n",
        "  node1 = Node(\"A\")\n",
        "  node2 = Node(\"B\")\n",
        "  node1.references.append(node2)\n",
        "  node2.references.append(node1)\n",
        "\n",
        "  # Remove our references to the objects\n",
        "  print(\"Removing direct references...\")\n",
        "  node1 = None\n",
        "  node2 = None\n",
        "\n",
        "  # Check garbage collection\n",
        "  print(\"Garbage collection needed to clean up...\")\n",
        "  gc.collect()\n",
        "  print(\"Cleanup complete\")\n",
        "\n",
        "# Challenge 2: Memory usage with large datasets\n",
        "def demonstrate_large_data():\n",
        "  print(\"\\nCHALLENGE 2: Large Data Sets\")\n",
        "\n",
        "  # Create a large list\n",
        "  print(\"Creating large list...\")\n",
        "  large_list = [i for i in range(1000000)]\n",
        "  print(f\"List size: {sys.getsizeof(large_list)} bytes\")\n",
        "\n",
        "  # Better approach for large data - generators\n",
        "  print(\"Using generator instead...\")\n",
        "  large_gen = (i for i in range(1000000))\n",
        "  print(f\"Generator size: {sys.getsizeof(large_gen)} bytes\")\n",
        "\n",
        "  # Clean up\n",
        "  large_list = None\n",
        "  large_gen = None\n",
        "\n",
        "# Challenge 3: Resource management\n",
        "def demonstrate_resource_management():\n",
        "  print(\"\\nCHALLENGE 3: Resource Management\")\n",
        "\n",
        "  class Resource:\n",
        "    def __init__(self, name):\n",
        "      self.name = name\n",
        "      print(f\"Resource {name} acquired\")\n",
        "\n",
        "    def __del__(self):\n",
        "      print(f\"Resource {self.name} released\")\n",
        "\n",
        "  # Poor resource management\n",
        "  def poor_management():\n",
        "    r = Resource(\"database\")\n",
        "    # If an exception happens here, resource might not be released\n",
        "    # r is released when garbage collected, timing uncertain\n",
        "\n",
        "  # Better resource management\n",
        "  def better_management():\n",
        "    try:\n",
        "      r = Resource(\"file\")\n",
        "      # Work with resource\n",
        "    finally:\n",
        "      # Explicitly release resource\n",
        "      r = None\n",
        "\n",
        "  # Best resource management using context manager\n",
        "  class ManagedResource:\n",
        "    def __init__(self, name):\n",
        "      self.name = name\n",
        "\n",
        "    def __enter__(self):\n",
        "      print(f\"Resource {self.name} acquired\")\n",
        "      return self\n",
        "\n",
        "    def __exit__(self, exc_type, exc_val, exc_tb):\n",
        "      print(f\"Resource {self.name} released\")\n",
        "\n",
        "  poor_management()\n",
        "  better_management()\n",
        "\n",
        "  with ManagedResource(\"network\") as r:\n",
        "    # Resource is automatically released after this block\n",
        "    pass\n",
        "\n",
        "# Run demonstrations\n",
        "demonstrate_circular_reference()\n",
        "demonstrate_large_data()\n",
        "demonstrate_resource_management()"
      ]
    },
    {
      "cell_type": "markdown",
      "metadata": {
        "id": "dbRhEAmn0owN"
      },
      "source": [
        "**Question 24.**How do you raise an exception manually in Python?\n",
        "\n",
        "  - In Python, you can manually raise exceptions using the raise statement with either a built-in exception class (like ValueError or TypeError) or a custom exception class. This is useful for indicating error conditions when validations fail or when an operation cannot continue normally."
      ]
    },
    {
      "cell_type": "code",
      "execution_count": 23,
      "metadata": {
        "colab": {
          "base_uri": "https://localhost:8080/"
        },
        "id": "N28NlDLe0qHQ",
        "outputId": "cc6147e5-61b3-4e5a-8555-e38f7e1a86e0"
      },
      "outputs": [
        {
          "output_type": "stream",
          "name": "stdout",
          "text": [
            "Validation error: Age must be an integer\n",
            "Validation error: Age cannot be negative\n"
          ]
        },
        {
          "output_type": "stream",
          "name": "stderr",
          "text": [
            "gc: collectable <function 0x7a7df6514900>\n",
            "gc: collectable <function 0x7a7df6514680>\n",
            "gc: collectable <tuple 0x7a7df6519e10>\n",
            "gc: collectable <dict 0x7a7df6d6dd00>\n",
            "gc: collectable <type 0x2a11ed60>\n",
            "gc: collectable <tuple 0x7a7df6da2e80>\n",
            "gc: collectable <getset_descriptor 0x7a7df7f8a3c0>\n",
            "gc: collectable <getset_descriptor 0x7a7df6491d00>\n",
            "gc: collectable <function 0x7a7df6514ae0>\n",
            "gc: collectable <function 0x7a7df6514b80>\n",
            "gc: collectable <function 0x7a7df6514c20>\n",
            "gc: collectable <tuple 0x7a7df645fe20>\n",
            "gc: collectable <dict 0x7a7df6491080>\n",
            "gc: collectable <type 0x2a147920>\n",
            "gc: collectable <tuple 0x7a7df6492e40>\n",
            "gc: collectable <getset_descriptor 0x7a7df652db80>\n",
            "gc: collectable <getset_descriptor 0x7a7df652db00>\n"
          ]
        }
      ],
      "source": [
        "# Raising built-in exceptions\n",
        "def validate_age(age):\n",
        "  if not isinstance(age, int):\n",
        "    raise TypeError(\"Age must be an integer\")\n",
        "  if age < 0:\n",
        "    raise ValueError(\"Age cannot be negative\")\n",
        "  if age > 120:\n",
        "    raise ValueError(\"Age is unrealistically high\")\n",
        "  return True\n",
        "\n",
        "# Custom exception class\n",
        "class InsufficientFundsError(Exception):\n",
        "  \"\"\"Raised when a withdrawal would result in a negative balance\"\"\"\n",
        "  def __init__(self, balance, amount, message=None):\n",
        "    self.balance = balance\n",
        "    self.amount = amount\n",
        "    self.message = message or f\"Cannot withdraw ${amount}. Account balance is ${balance}\"\n",
        "    super().__init__(self.message)\n",
        "\n",
        "class BankAccount:\n",
        "  def __init__(self, name, balance=0):\n",
        "    self.name = name\n",
        "    self.balance = balance\n",
        "\n",
        "  def deposit(self, amount):\n",
        "    if amount <= 0:\n",
        "      raise ValueError(\"Deposit amount must be positive\")\n",
        "      self.balance += amount\n",
        "      return self.balance\n",
        "\n",
        "  def withdraw(self, amount):\n",
        "    if amount <= 0:\n",
        "      raise ValueError(\"Withdrawal amount must be positive\")\n",
        "      if amount > self.balance:\n",
        "        raise InsufficientFundsError(self.balance, amount)\n",
        "        self.balance -= amount\n",
        "        return self.balance\n",
        "\n",
        "# Testing exception raising\n",
        "try:\n",
        "  validate_age(\"twenty\")\n",
        "except TypeError as e:\n",
        "  print(f\"Validation error: {e}\")\n",
        "\n",
        "try:\n",
        "  validate_age(-5)\n",
        "except ValueError as e:\n",
        "  print(f\"Validation error: {e}\")\n",
        "\n",
        "# Testing custom exception\n",
        "account = BankAccount(\"John Doe\", 100)\n",
        "try:\n",
        "  account.withdraw(150)\n",
        "except InsufficientFundsError as e:\n",
        "  print(f\"Banking error: {e}\")\n",
        "  print(f\"Available balance: ${e.balance}\")"
      ]
    },
    {
      "cell_type": "markdown",
      "metadata": {
        "id": "N-NHcbJr0x2s"
      },
      "source": [
        "**Question 25.** Why is it important to use multithreading in certain applications?\n",
        "\n",
        "  - Multithreading is important for applications that need to perform multiple tasks concurrently, especially I/O-bound operations like network requests or file operations. It improves responsiveness by keeping the user interface active while background tasks run, maximizes CPU usage during waiting periods, and simplifies program structure compared to asynchronous callbacks"
      ]
    },
    {
      "cell_type": "code",
      "execution_count": 24,
      "metadata": {
        "colab": {
          "base_uri": "https://localhost:8080/"
        },
        "id": "7eML8yTq0sJk",
        "outputId": "c2dc10e5-48c4-4cb5-f7cc-e124e4e7708b"
      },
      "outputs": [
        {
          "output_type": "stream",
          "name": "stdout",
          "text": [
            "Start\n",
            "Start\n"
          ]
        }
      ],
      "source": [
        "import threading\n",
        "import time\n",
        "\n",
        "def task():\n",
        "  print(\"Start\")\n",
        "  time.sleep(2)\n",
        "  print(\"End\")\n",
        "\n",
        "t1 = threading.Thread(target=task)\n",
        "t2 = threading.Thread(target=task)\n",
        "t1.start()\n",
        "t2.start()"
      ]
    },
    {
      "cell_type": "markdown",
      "metadata": {
        "id": "uF6q0kLn3m1g"
      },
      "source": [
        "## Practical Questions"
      ]
    },
    {
      "cell_type": "markdown",
      "metadata": {
        "id": "934lY8i54y-m"
      },
      "source": [
        "**Question 1.** How can you open a file for writing in Python and write a string to it"
      ]
    },
    {
      "cell_type": "code",
      "execution_count": 25,
      "metadata": {
        "colab": {
          "base_uri": "https://localhost:8080/"
        },
        "id": "4VyrBjxJ4b75",
        "outputId": "51f7e682-e078-400d-fda8-7ec2e679b57c"
      },
      "outputs": [
        {
          "output_type": "stream",
          "name": "stdout",
          "text": [
            "Successfully wrote to 'example.txt'\n"
          ]
        }
      ],
      "source": [
        "file_path = \"example.txt\"\n",
        "content = \"Hello, World!\"\n",
        "\n",
        "try:\n",
        "  with open(file_path, \"w\") as file:\n",
        "    file.write(content)\n",
        "  print(f\"Successfully wrote to '{file_path}'\")\n",
        "except IOError as e:\n",
        "  print(f\"Error writing to file: {e}\")"
      ]
    },
    {
      "cell_type": "markdown",
      "metadata": {
        "id": "ecsGeA9E4-US"
      },
      "source": [
        "**Question 2.** Write a Python program to read the contents of a file and print each line"
      ]
    },
    {
      "cell_type": "code",
      "execution_count": 26,
      "metadata": {
        "colab": {
          "base_uri": "https://localhost:8080/"
        },
        "id": "az-DSI0x43DL",
        "outputId": "ad288395-d9a4-4b8f-843d-436c9b5eac94"
      },
      "outputs": [
        {
          "output_type": "stream",
          "name": "stdout",
          "text": [
            "Hello, World!\n"
          ]
        }
      ],
      "source": [
        "file_path = \"example.txt\"\n",
        "\n",
        "try:\n",
        "  with open(file_path, \"r\") as file:\n",
        "    for line in file:\n",
        "      print(line.strip())  # `.strip()` removes extra newlines\n",
        "except FileNotFoundError:\n",
        "  print(f\"Error: '{file_path}' not found.\")\n",
        "except IOError as e:\n",
        "  print(f\"Error reading file: {e}\")"
      ]
    },
    {
      "cell_type": "markdown",
      "metadata": {
        "id": "m0B-UiC647Fo"
      },
      "source": [
        "**Question 3.** How would you handle a case where the file doesn't exist while trying to open it for reading"
      ]
    },
    {
      "cell_type": "code",
      "execution_count": 27,
      "metadata": {
        "colab": {
          "base_uri": "https://localhost:8080/"
        },
        "id": "Aq5m389M5M7a",
        "outputId": "180a2a32-47e7-49d2-c41c-bfb6e5ca1139"
      },
      "outputs": [
        {
          "output_type": "stream",
          "name": "stdout",
          "text": [
            "Error: File 'nonexistent.txt' does not exist.\n"
          ]
        }
      ],
      "source": [
        "file_path = \"nonexistent.txt\"\n",
        "\n",
        "try:\n",
        "  with open(file_path, \"r\") as file:\n",
        "    print(file.read())\n",
        "except FileNotFoundError:\n",
        "  print(f\"Error: File '{file_path}' does not exist.\")\n",
        "except IOError as e:\n",
        "  print(f\"Error reading file: {e}\")"
      ]
    },
    {
      "cell_type": "markdown",
      "metadata": {
        "id": "kGTrcAgD5U1B"
      },
      "source": [
        "**Question 4.** Write a Python script that reads from one file and writes its content to another file"
      ]
    },
    {
      "cell_type": "code",
      "execution_count": 28,
      "metadata": {
        "colab": {
          "base_uri": "https://localhost:8080/"
        },
        "id": "06ionkVZ5PjB",
        "outputId": "251be4d1-9297-423d-baec-e8fed43bba40"
      },
      "outputs": [
        {
          "output_type": "stream",
          "name": "stdout",
          "text": [
            "Error: Source file 'source.txt' not found.\n"
          ]
        }
      ],
      "source": [
        "source_file = \"source.txt\"\n",
        "dest_file = \"destination.txt\"\n",
        "\n",
        "try:\n",
        "  with open(source_file, \"r\") as src, open(dest_file, \"w\") as dest:\n",
        "    dest.write(src.read())\n",
        "  print(f\"Successfully copied '{source_file}' to '{dest_file}'\")\n",
        "except FileNotFoundError:\n",
        "  print(f\"Error: Source file '{source_file}' not found.\")\n",
        "except IOError as e:\n",
        "  print(f\"Error during file operation: {e}\")"
      ]
    },
    {
      "cell_type": "markdown",
      "metadata": {
        "id": "9xpv2y4T5eA9"
      },
      "source": [
        "**Question 5.** How would you catch and handle division by zero error in Python."
      ]
    },
    {
      "cell_type": "code",
      "execution_count": 29,
      "metadata": {
        "colab": {
          "base_uri": "https://localhost:8080/"
        },
        "id": "gQqOnU505Yc5",
        "outputId": "0644dbac-8a73-4d7d-c726-7bb1b78c30a0"
      },
      "outputs": [
        {
          "output_type": "stream",
          "name": "stdout",
          "text": [
            "Error: Division by zero is not allowed.\n"
          ]
        }
      ],
      "source": [
        "try:\n",
        "  result = 10 / 0\n",
        "except ZeroDivisionError:\n",
        "  print(\"Error: Division by zero is not allowed.\")\n",
        "except Exception as e:\n",
        "  print(f\"An unexpected error occurred: {e}\")"
      ]
    },
    {
      "cell_type": "markdown",
      "metadata": {
        "id": "9RrmrFxv5loj"
      },
      "source": [
        "**Question 6.** Write a Python program that logs an error message to a log file when a division by zero exception occurs"
      ]
    },
    {
      "cell_type": "code",
      "execution_count": 30,
      "metadata": {
        "colab": {
          "base_uri": "https://localhost:8080/"
        },
        "id": "wrXxADTk5hmk",
        "outputId": "5916a3a9-8272-465f-cdbf-5b99c2ecb58d"
      },
      "outputs": [
        {
          "output_type": "stream",
          "name": "stderr",
          "text": [
            "ERROR:root:Division by zero attempted.\n"
          ]
        },
        {
          "output_type": "stream",
          "name": "stdout",
          "text": [
            "Error logged to 'errors.log'.\n"
          ]
        }
      ],
      "source": [
        "import logging\n",
        "\n",
        "logging.basicConfig(filename=\"errors.log\", level=logging.ERROR)\n",
        "\n",
        "try:\n",
        "  result = 10 / 0\n",
        "except ZeroDivisionError:\n",
        "  logging.error(\"Division by zero attempted.\")\n",
        "  print(\"Error logged to 'errors.log'.\")"
      ]
    },
    {
      "cell_type": "markdown",
      "metadata": {
        "id": "TbuVaRbn5uFw"
      },
      "source": [
        "**Question 7.** How do you log information at different levels (INFO, ERROR, WARNING) in Python using the logging module"
      ]
    },
    {
      "cell_type": "code",
      "execution_count": 31,
      "metadata": {
        "colab": {
          "base_uri": "https://localhost:8080/"
        },
        "id": "EPKbZuUL5qdl",
        "outputId": "809861bc-f8d1-41ae-e20b-9470cd961850"
      },
      "outputs": [
        {
          "output_type": "stream",
          "name": "stderr",
          "text": [
            "WARNING:root:This is a warning.\n",
            "ERROR:root:This is an error.\n"
          ]
        },
        {
          "output_type": "stream",
          "name": "stdout",
          "text": [
            "Logs written to 'app.log'.\n"
          ]
        }
      ],
      "source": [
        "import logging\n",
        "\n",
        "logging.basicConfig(\n",
        "  level=logging.INFO,\n",
        "  format=\"%(asctime)s - %(levelname)s - %(message)s\",\n",
        "  filename=\"app.log\"\n",
        ")\n",
        "\n",
        "logging.info(\"Program started.\")\n",
        "logging.warning(\"This is a warning.\")\n",
        "logging.error(\"This is an error.\")\n",
        "print(\"Logs written to 'app.log'.\")"
      ]
    },
    {
      "cell_type": "markdown",
      "metadata": {
        "id": "1aguuqrT52R1"
      },
      "source": [
        "**Question 8.** Write a program to handle a file opening error using exception handling."
      ]
    },
    {
      "cell_type": "code",
      "execution_count": 32,
      "metadata": {
        "colab": {
          "base_uri": "https://localhost:8080/"
        },
        "id": "BaoEytxl5x_B",
        "outputId": "607b207b-13ba-4c61-8be3-715d1e7561a3"
      },
      "outputs": [
        {
          "output_type": "stream",
          "name": "stdout",
          "text": [
            "Hello, World!\n"
          ]
        }
      ],
      "source": [
        "file_path = \"example.txt\"\n",
        "\n",
        "try:\n",
        "  with open(file_path, \"r\") as file:\n",
        "    print(file.read())\n",
        "except FileNotFoundError:\n",
        "  print(f\"Error: File '{file_path}' not found.\")\n",
        "except PermissionError:\n",
        "  print(f\"Error: No permission to read '{file_path}'.\")\n",
        "except IOError as e:\n",
        "  print(f\"Error reading file: {e}\")"
      ]
    },
    {
      "cell_type": "markdown",
      "metadata": {
        "id": "l124IWJp5-wZ"
      },
      "source": [
        "**Question 9.** How can you read a file line by line and store its content in a list in Python"
      ]
    },
    {
      "cell_type": "code",
      "execution_count": 33,
      "metadata": {
        "colab": {
          "base_uri": "https://localhost:8080/"
        },
        "id": "409zPEqh55vB",
        "outputId": "3892128c-1c16-4206-b3ea-9599c58a7ed0"
      },
      "outputs": [
        {
          "output_type": "stream",
          "name": "stdout",
          "text": [
            "File contents (as list): ['Hello, World!']\n"
          ]
        }
      ],
      "source": [
        "file_path = \"example.txt\"\n",
        "\n",
        "try:\n",
        "  with open(file_path, \"r\") as file:\n",
        "    lines = [line.strip() for line in file]\n",
        "  print(f\"File contents (as list): {lines}\")\n",
        "except FileNotFoundError:\n",
        "  print(f\"Error: File '{file_path}' not found.\")"
      ]
    },
    {
      "cell_type": "markdown",
      "metadata": {
        "id": "yZw4Zfv761a3"
      },
      "source": [
        "**Question 10.** How can you append data to an existing file in Python"
      ]
    },
    {
      "cell_type": "code",
      "execution_count": 34,
      "metadata": {
        "colab": {
          "base_uri": "https://localhost:8080/"
        },
        "id": "6foXgvVV6C6Q",
        "outputId": "e807b3e0-9ab8-429f-9f8a-2d179e958739"
      },
      "outputs": [
        {
          "output_type": "stream",
          "name": "stdout",
          "text": [
            "Data appended to 'example.txt'.\n"
          ]
        }
      ],
      "source": [
        "file_path = \"example.txt\"\n",
        "new_data = \"New line to append.\"\n",
        "\n",
        "try:\n",
        "  with open(file_path, \"a\") as file:\n",
        "    file.write(new_data + \"\\n\")\n",
        "  print(f\"Data appended to '{file_path}'.\")\n",
        "except IOError as e:\n",
        "  print(f\"Error appending to file: {e}\")"
      ]
    },
    {
      "cell_type": "markdown",
      "metadata": {
        "id": "sVg-Xyxd7AQm"
      },
      "source": [
        "**Question 11.** Write a Python program that uses a try-except block to handle an error when attempting to access a dictionary key that doesn't exist."
      ]
    },
    {
      "cell_type": "code",
      "execution_count": 35,
      "metadata": {
        "colab": {
          "base_uri": "https://localhost:8080/"
        },
        "id": "WnjLHzPn649G",
        "outputId": "8c19acab-b9f2-42f0-c817-3249773afd79"
      },
      "outputs": [
        {
          "output_type": "stream",
          "name": "stdout",
          "text": [
            "Error: The requested key does not exist in the dictionary.\n"
          ]
        }
      ],
      "source": [
        "user_data = {\"name\": \"Alice\", \"age\": 30}\n",
        "\n",
        "try:\n",
        "  print(\"User's email:\", user_data[\"email\"])  # Key doesn't exist\n",
        "except KeyError:\n",
        "  print(\"Error: The requested key does not exist in the dictionary.\")\n",
        "except Exception as e:\n",
        "  print(f\"An unexpected error occurred: {e}\")"
      ]
    },
    {
      "cell_type": "markdown",
      "metadata": {
        "id": "druDsJc57KD9"
      },
      "source": [
        "**Question 12.** Write a program that demonstrates using multiple except blocks to handle different types of exceptions."
      ]
    },
    {
      "cell_type": "code",
      "execution_count": 36,
      "metadata": {
        "colab": {
          "base_uri": "https://localhost:8080/"
        },
        "id": "mQm-Tw4G7F8-",
        "outputId": "2713bc10-9055-4a6e-f1ee-fd9fd5ccdcbb"
      },
      "outputs": [
        {
          "output_type": "stream",
          "name": "stdout",
          "text": [
            "End\n",
            "End\n",
            "Enter a number: 40\n",
            "Result: 2.5\n"
          ]
        }
      ],
      "source": [
        "try:\n",
        "  num = int(input(\"Enter a number: \"))\n",
        "  result = 100 / num\n",
        "  print(\"Result:\", result)\n",
        "except ValueError:\n",
        "  print(\"Error: Invalid input. Please enter a number.\")\n",
        "except ZeroDivisionError:\n",
        "  print(\"Error: Cannot divide by zero.\")\n",
        "except Exception as e:\n",
        "  print(f\"An unexpected error occurred: {e}\")"
      ]
    },
    {
      "cell_type": "markdown",
      "metadata": {
        "id": "FddtUJz6-EZe"
      },
      "source": [
        "**Question 13.** How would you check if a file exists before attempting to read it in Python?"
      ]
    },
    {
      "cell_type": "code",
      "execution_count": 37,
      "metadata": {
        "colab": {
          "base_uri": "https://localhost:8080/"
        },
        "id": "1MDEITJR99-D",
        "outputId": "6399f3b2-e6a1-4cd3-d21c-cc35e441cc2b"
      },
      "outputs": [
        {
          "output_type": "stream",
          "name": "stdout",
          "text": [
            "File exists but is empty.\n"
          ]
        }
      ],
      "source": [
        "import os\n",
        "\n",
        "file_path = \"data.txt\"\n",
        "\n",
        "if os.path.exists(file_path):\n",
        "  if os.path.getsize(file_path) > 0:\n",
        "    with open(file_path, \"r\") as file:\n",
        "      print(file.read())\n",
        "  else:\n",
        "    print(\"File exists but is empty.\")\n",
        "else:\n",
        "  print(\"Error: File does not exist.\")"
      ]
    },
    {
      "cell_type": "markdown",
      "metadata": {
        "id": "8rDthrU--LCj"
      },
      "source": [
        "**Question 14.** Write a program that uses the logging module to log both informational and error messages."
      ]
    },
    {
      "cell_type": "code",
      "execution_count": 38,
      "metadata": {
        "colab": {
          "base_uri": "https://localhost:8080/"
        },
        "id": "nauZOYjI-Gsg",
        "outputId": "79c25f91-129d-4e05-c3d7-4dc2ec72a887"
      },
      "outputs": [
        {
          "output_type": "stream",
          "name": "stderr",
          "text": [
            "ERROR:root:Division by zero attempted\n"
          ]
        },
        {
          "output_type": "stream",
          "name": "stdout",
          "text": [
            "Error logged to app.log\n"
          ]
        }
      ],
      "source": [
        "import logging\n",
        "\n",
        "logging.basicConfig(\n",
        "  level=logging.INFO,\n",
        "  format=\"%(asctime)s - %(levelname)s - %(message)s\",\n",
        "  filename=\"app.log\"\n",
        ")\n",
        "\n",
        "logging.info(\"Application started\")\n",
        "try:\n",
        "  result = 10 / 0\n",
        "except ZeroDivisionError:\n",
        "  logging.error(\"Division by zero attempted\")\n",
        "  print(\"Error logged to app.log\")"
      ]
    },
    {
      "cell_type": "markdown",
      "metadata": {
        "id": "_q3y06bq-TAk"
      },
      "source": [
        "**Question 15.** Write a Python program that prints the content of a file and handles the case when the file is empty."
      ]
    },
    {
      "cell_type": "code",
      "execution_count": 39,
      "metadata": {
        "colab": {
          "base_uri": "https://localhost:8080/"
        },
        "id": "NlsYul2Z-PFc",
        "outputId": "36438d1e-48e4-4bad-af4c-fe7a2941d57b"
      },
      "outputs": [
        {
          "output_type": "stream",
          "name": "stdout",
          "text": [
            "File content:\n",
            "Hello, World!New line to append.\n",
            "\n"
          ]
        }
      ],
      "source": [
        "file_path = \"example.txt\"\n",
        "\n",
        "try:\n",
        "  with open(file_path, \"r\") as file:\n",
        "    content = file.read()\n",
        "    if content:\n",
        "      print(\"File content:\")\n",
        "      print(content)\n",
        "    else:\n",
        "      print(\"File is empty.\")\n",
        "except FileNotFoundError:\n",
        "  print(f\"Error: File '{file_path}' not found.\")\n",
        "except IOError as e:\n",
        "  print(f\"Error reading file: {e}\")"
      ]
    },
    {
      "cell_type": "markdown",
      "metadata": {
        "id": "78DqH7RN-YK8"
      },
      "source": [
        "**Question 16.** Demonstrate how to use memory profiling to check the memory usage of a small program."
      ]
    },
    {
      "cell_type": "code",
      "execution_count": 40,
      "metadata": {
        "colab": {
          "base_uri": "https://localhost:8080/"
        },
        "id": "K35y8L8t-U2V",
        "outputId": "fb297ab0-7fd8-402b-9326-4be44dc7780c"
      },
      "outputs": [
        {
          "output_type": "stream",
          "name": "stdout",
          "text": [
            "Requirement already satisfied: memory_profiler in /usr/local/lib/python3.11/dist-packages (0.61.0)\n",
            "Requirement already satisfied: psutil in /usr/local/lib/python3.11/dist-packages (from memory_profiler) (5.9.5)\n"
          ]
        }
      ],
      "source": [
        "!pip install memory_profiler"
      ]
    },
    {
      "cell_type": "code",
      "source": [
        "from memory_profiler import profile\n",
        "\n",
        "@profile\n",
        "def process_large_data():\n",
        "  data = [i**2 for i in range(100000)]\n",
        "  return sum(data)\n",
        "\n",
        "if __name__ == \"__main__\":\n",
        "  process_large_data()"
      ],
      "metadata": {
        "colab": {
          "base_uri": "https://localhost:8080/"
        },
        "id": "ySgrz4fHOLO8",
        "outputId": "3d9f0dd7-d51a-41a7-e2d3-9393b85535bf"
      },
      "execution_count": 41,
      "outputs": [
        {
          "output_type": "stream",
          "name": "stderr",
          "text": [
            "\n",
            "PYDEV DEBUGGER WARNING:\n",
            "sys.settrace() should not be used when the debugger is being used.\n",
            "This may cause the debugger to stop working correctly.\n",
            "If this is needed, please check: \n",
            "http://pydev.blogspot.com/2007/06/why-cant-pydev-debugger-work-with.html\n",
            "to see how to restore the debug tracing back correctly.\n",
            "Call Location:\n",
            "  File \"/usr/local/lib/python3.11/dist-packages/memory_profiler.py\", line 847, in enable\n",
            "    sys.settrace(self.trace_memory_usage)\n",
            "\n",
            "\n",
            "PYDEV DEBUGGER WARNING:\n",
            "sys.settrace() should not be used when the debugger is being used.\n",
            "This may cause the debugger to stop working correctly.\n",
            "If this is needed, please check: \n",
            "http://pydev.blogspot.com/2007/06/why-cant-pydev-debugger-work-with.html\n",
            "to see how to restore the debug tracing back correctly.\n",
            "Call Location:\n",
            "  File \"/usr/local/lib/python3.11/dist-packages/memory_profiler.py\", line 850, in disable\n",
            "    sys.settrace(self._original_trace_function)\n",
            "\n"
          ]
        },
        {
          "output_type": "stream",
          "name": "stdout",
          "text": [
            "ERROR: Could not find file <ipython-input-41-565d8825d4c4>\n",
            "NOTE: %mprun can only be used on functions defined in physical files, and not in the IPython environment.\n"
          ]
        }
      ]
    },
    {
      "cell_type": "markdown",
      "metadata": {
        "id": "2QcnMROK-ebo"
      },
      "source": [
        "**Question 17.** Write a Python program to create and write a list of numbers to a file, one number per line."
      ]
    },
    {
      "cell_type": "code",
      "execution_count": 42,
      "metadata": {
        "colab": {
          "base_uri": "https://localhost:8080/"
        },
        "id": "1xtdWdrE-a2Q",
        "outputId": "29127d6c-29db-4fd8-afa0-424f46e7e894"
      },
      "outputs": [
        {
          "output_type": "stream",
          "name": "stdout",
          "text": [
            "Numbers successfully written to numbers.txt\n"
          ]
        }
      ],
      "source": [
        "numbers = [1, 2, 3, 4, 5]\n",
        "file_path = \"numbers.txt\"\n",
        "\n",
        "try:\n",
        "    with open(file_path, \"w\") as file:\n",
        "        for num in numbers:\n",
        "            file.write(f\"{num}\\n\")\n",
        "    print(f\"Numbers successfully written to {file_path}\")\n",
        "except IOError as e:\n",
        "    print(f\"Error writing to file: {e}\")"
      ]
    },
    {
      "cell_type": "markdown",
      "metadata": {
        "id": "O_TLwdWF-nyi"
      },
      "source": [
        "**Question 18.** How would you implement a basic logging setup that logs to a file with rotation after 1MB?"
      ]
    },
    {
      "cell_type": "code",
      "execution_count": 43,
      "metadata": {
        "colab": {
          "base_uri": "https://localhost:8080/"
        },
        "id": "B4ye37C8-jLf",
        "outputId": "3e895b09-038f-466f-e3bb-2882ef188322"
      },
      "outputs": [
        {
          "output_type": "stream",
          "name": "stdout",
          "text": [
            "Logging to app.log with rotation\n"
          ]
        }
      ],
      "source": [
        "import logging\n",
        "from logging.handlers import RotatingFileHandler\n",
        "\n",
        "log_file = \"app.log\"\n",
        "max_size = 1 * 1024 * 1024  # 1MB\n",
        "backup_count = 3\n",
        "\n",
        "handler = RotatingFileHandler(\n",
        "  log_file, maxBytes=max_size, backupCount=backup_count\n",
        ")\n",
        "logging.basicConfig(\n",
        "  handlers=[handler],\n",
        "  level=logging.INFO,\n",
        "  format=\"%(asctime)s - %(levelname)s - %(message)s\"\n",
        ")\n",
        "\n",
        "logging.info(\"This log will rotate when it reaches 1MB\")\n",
        "print(f\"Logging to {log_file} with rotation\")"
      ]
    },
    {
      "cell_type": "markdown",
      "metadata": {
        "id": "hPDQUw5w-3s-"
      },
      "source": [
        "**Question 19.**  Write a program that handles both IndexError and KeyError using a try-except block."
      ]
    },
    {
      "cell_type": "code",
      "execution_count": 44,
      "metadata": {
        "colab": {
          "base_uri": "https://localhost:8080/"
        },
        "id": "gTA4xTMN-0Cb",
        "outputId": "f8fc7936-3d3e-47fd-bb80-9af88bdbebcc"
      },
      "outputs": [
        {
          "output_type": "stream",
          "name": "stdout",
          "text": [
            "Error: List index out of range\n"
          ]
        }
      ],
      "source": [
        "data = {\n",
        "  \"users\": [\"Alice\", \"Bob\"],\n",
        "  \"scores\": [85, 92]\n",
        "}\n",
        "\n",
        "try:\n",
        "  print(data[\"users\"][2])  # IndexError\n",
        "  print(data[\"email\"])     # KeyError\n",
        "except IndexError:\n",
        "  print(\"Error: List index out of range\")\n",
        "except KeyError:\n",
        "  print(\"Error: Dictionary key not found\")\n",
        "except Exception as e:\n",
        "  print(f\"An unexpected error occurred: {e}\")"
      ]
    },
    {
      "cell_type": "markdown",
      "metadata": {
        "id": "BJKq76fb_Hsd"
      },
      "source": [
        "**Question 20.** How would you open a file and read its contents using a context manager in Python?"
      ]
    },
    {
      "cell_type": "code",
      "execution_count": 45,
      "metadata": {
        "colab": {
          "base_uri": "https://localhost:8080/"
        },
        "id": "No63Slc2_DQb",
        "outputId": "23948d4f-9c1b-4a2a-a6b8-f88910e16146"
      },
      "outputs": [
        {
          "output_type": "stream",
          "name": "stdout",
          "text": [
            "Hello, World!New line to append.\n",
            "\n"
          ]
        }
      ],
      "source": [
        "file_path = \"example.txt\"\n",
        "\n",
        "try:\n",
        "  with open(file_path, \"r\") as file:\n",
        "    content = file.read()\n",
        "    print(content)\n",
        "except FileNotFoundError:\n",
        "  print(f\"Error: File '{file_path}' not found.\")\n",
        "except IOError as e:\n",
        "  print(f\"Error reading file: {e}\")"
      ]
    },
    {
      "cell_type": "markdown",
      "metadata": {
        "id": "iBVHFMBg_VDx"
      },
      "source": [
        "**Question 21.**Write a Python program that reads a file and prints the number of occurrences of a specific word."
      ]
    },
    {
      "cell_type": "code",
      "execution_count": 46,
      "metadata": {
        "colab": {
          "base_uri": "https://localhost:8080/"
        },
        "id": "y5A2xear_Osb",
        "outputId": "8cbdc9c1-4acf-4e0d-88c6-7ad7f72c048b"
      },
      "outputs": [
        {
          "output_type": "stream",
          "name": "stdout",
          "text": [
            "'Python' appears 1 times in sample.txt\n"
          ]
        }
      ],
      "source": [
        "file_path = \"sample.txt\"\n",
        "target_word = \"Python\"\n",
        "count = 0\n",
        "\n",
        "try:\n",
        "  with open(file_path, \"r\") as file:\n",
        "    for line in file:\n",
        "      count += line.lower().count(target_word.lower())\n",
        "  print(f\"'{target_word}' appears {count} times in {file_path}\")\n",
        "except FileNotFoundError:\n",
        "  print(f\"Error: File '{file_path}' not found.\")\n",
        "except IOError as e:\n",
        "  print(f\"Error reading file: {e}\")"
      ]
    },
    {
      "cell_type": "markdown",
      "metadata": {
        "id": "UUzPArI-_ecs"
      },
      "source": [
        "**Question 22.**How can you check if a file is empty before attempting to read its contents?"
      ]
    },
    {
      "cell_type": "code",
      "execution_count": 47,
      "metadata": {
        "colab": {
          "base_uri": "https://localhost:8080/"
        },
        "id": "Ctg8-FPP_ZuB",
        "outputId": "77be75ea-a6b7-4f3c-da09-86205a46cdb3"
      },
      "outputs": [
        {
          "output_type": "stream",
          "name": "stdout",
          "text": [
            "File is empty\n"
          ]
        }
      ],
      "source": [
        "import os\n",
        "\n",
        "file_path = \"data.txt\"\n",
        "\n",
        "if not os.path.exists(file_path):\n",
        "  print(\"Error: File does not exist\")\n",
        "elif os.path.getsize(file_path) == 0:\n",
        "  print(\"File is empty\")\n",
        "else:\n",
        "  with open(file_path, \"r\") as file:\n",
        "    print(\"File content:\", file.read())"
      ]
    },
    {
      "cell_type": "markdown",
      "metadata": {
        "id": "iAmp5Gz4_mkQ"
      },
      "source": [
        "**Question 23.** Write a Python program that writes to a log file when an error occurs during file handling."
      ]
    },
    {
      "cell_type": "code",
      "execution_count": 48,
      "metadata": {
        "colab": {
          "base_uri": "https://localhost:8080/"
        },
        "id": "HvkzDF3P_iaN",
        "outputId": "5697c660-3262-491b-bce4-8fe5852a9b7d"
      },
      "outputs": [
        {
          "output_type": "stream",
          "name": "stderr",
          "text": [
            "ERROR:root:File not found\n"
          ]
        },
        {
          "output_type": "stream",
          "name": "stdout",
          "text": [
            "Error logged to file_errors.log\n"
          ]
        }
      ],
      "source": [
        "import logging\n",
        "\n",
        "logging.basicConfig(\n",
        "    filename=\"file_errors.log\",\n",
        "    level=logging.ERROR,\n",
        "    format=\"%(asctime)s - %(levelname)s - %(message)s\"\n",
        ")\n",
        "\n",
        "try:\n",
        "    with open(\"nonexistent.txt\", \"r\") as file:\n",
        "        print(file.read())\n",
        "except FileNotFoundError:\n",
        "    logging.error(\"File not found\")\n",
        "    print(\"Error logged to file_errors.log\")\n",
        "except IOError as e:\n",
        "    logging.error(f\"File IO error: {e}\")\n",
        "    print(\"Error logged to file_errors.log\")"
      ]
    }
  ],
  "metadata": {
    "colab": {
      "provenance": []
    },
    "kernelspec": {
      "display_name": "Python 3",
      "language": "python",
      "name": "python3"
    },
    "language_info": {
      "codemirror_mode": {
        "name": "ipython",
        "version": 3
      },
      "file_extension": ".py",
      "mimetype": "text/x-python",
      "name": "python",
      "nbconvert_exporter": "python",
      "pygments_lexer": "ipython3",
      "version": "3.8.8"
    }
  },
  "nbformat": 4,
  "nbformat_minor": 0
}